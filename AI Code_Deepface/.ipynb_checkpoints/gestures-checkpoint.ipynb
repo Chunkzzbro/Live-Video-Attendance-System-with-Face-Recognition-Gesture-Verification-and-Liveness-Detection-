{
 "cells": [
  {
   "cell_type": "code",
   "execution_count": 1,
   "metadata": {},
   "outputs": [
    {
     "name": "stderr",
     "output_type": "stream",
     "text": [
      "2024-11-06 22:36:30.950148: I tensorflow/core/util/port.cc:110] oneDNN custom operations are on. You may see slightly different numerical results due to floating-point round-off errors from different computation orders. To turn them off, set the environment variable `TF_ENABLE_ONEDNN_OPTS=0`.\n",
      "2024-11-06 22:36:30.952776: I tensorflow/tsl/cuda/cudart_stub.cc:28] Could not find cuda drivers on your machine, GPU will not be used.\n",
      "2024-11-06 22:36:31.011199: I tensorflow/tsl/cuda/cudart_stub.cc:28] Could not find cuda drivers on your machine, GPU will not be used.\n",
      "2024-11-06 22:36:31.011928: I tensorflow/core/platform/cpu_feature_guard.cc:182] This TensorFlow binary is optimized to use available CPU instructions in performance-critical operations.\n",
      "To enable the following instructions: AVX2 AVX512F AVX512_VNNI FMA, in other operations, rebuild TensorFlow with the appropriate compiler flags.\n",
      "2024-11-06 22:36:31.935652: W tensorflow/compiler/tf2tensorrt/utils/py_utils.cc:38] TF-TRT Warning: Could not find TensorRT\n"
     ]
    }
   ],
   "source": [
    "import os\n",
    "import cv2\n",
    "import random\n",
    "import numpy as np\n",
    "import tensorflow as tf\n",
    "import mediapipe as mp\n",
    "from tensorflow.keras import Sequential\n",
    "from tensorflow.keras.layers import Conv2D, MaxPooling2D, Flatten, Dense\n",
    "from tensorflow.keras.preprocessing.image import ImageDataGenerator\n",
    "from sklearn.model_selection import train_test_split"
   ]
  },
  {
   "cell_type": "code",
   "execution_count": 2,
   "metadata": {},
   "outputs": [
    {
     "name": "stderr",
     "output_type": "stream",
     "text": [
      "2024-11-06 22:36:36.010475: E tensorflow/compiler/xla/stream_executor/cuda/cuda_driver.cc:268] failed call to cuInit: CUDA_ERROR_NO_DEVICE: no CUDA-capable device is detected\n"
     ]
    }
   ],
   "source": [
    "model = Sequential([\n",
    "    Conv2D(32, (3, 3), activation='relu', input_shape=(60, 60, 3)),\n",
    "    MaxPooling2D((2, 2)),\n",
    "    Conv2D(64, (3, 3), activation='relu'),\n",
    "    MaxPooling2D((2, 2)),\n",
    "    Conv2D(64, (3, 3), activation='relu'),\n",
    "    Flatten(),\n",
    "    Dense(64, activation='relu'),\n",
    "    Dense(10, activation='softmax')\n",
    "])"
   ]
  },
  {
   "cell_type": "code",
   "execution_count": 3,
   "metadata": {},
   "outputs": [],
   "source": [
    "model.compile(optimizer='adam', loss='sparse_categorical_crossentropy', metrics=['accuracy'])"
   ]
  },
  {
   "cell_type": "code",
   "execution_count": 4,
   "metadata": {},
   "outputs": [],
   "source": [
    "gesture_labels = {\n",
    "    'call_me': 0,\n",
    "    'fingers_crossed': 1,\n",
    "    'okay': 2,\n",
    "    'paper': 3,\n",
    "    'peace': 4,\n",
    "    'rock': 5,\n",
    "    'rock_on': 6,\n",
    "    'scissor': 7,\n",
    "    'thumbs': 8,\n",
    "    'up': 9\n",
    "}"
   ]
  },
  {
   "cell_type": "code",
   "execution_count": 5,
   "metadata": {},
   "outputs": [],
   "source": [
    "folder = 'HandGesture/images'"
   ]
  },
  {
   "cell_type": "code",
   "execution_count": 6,
   "metadata": {},
   "outputs": [],
   "source": [
    "def load_data(folder):\n",
    "    images = []\n",
    "    labels = []\n",
    "    \n",
    "    for gesture_dir in os.listdir(folder):\n",
    "        label = gesture_labels.get(gesture_dir)\n",
    "        if label is None:\n",
    "            continue  \n",
    "        path = os.path.join(folder, gesture_dir)\n",
    "        for img_name in os.listdir(path):\n",
    "            img_path = os.path.join(path, img_name)\n",
    "            img = cv2.imread(img_path)\n",
    "            img = cv2.resize(img, (60, 60))  \n",
    "            images.append(img)\n",
    "            labels.append(label)\n",
    "    \n",
    "    images = np.array(images)\n",
    "    labels = np.array(labels)\n",
    "    return images, labels"
   ]
  },
  {
   "cell_type": "code",
   "execution_count": 7,
   "metadata": {},
   "outputs": [],
   "source": [
    "images, labels = load_data(folder)\n",
    "x_train, x_val, y_train, y_val = train_test_split(images, labels, test_size=0.2, random_state=42)"
   ]
  },
  {
   "cell_type": "code",
   "execution_count": 8,
   "metadata": {},
   "outputs": [],
   "source": [
    "train_gen = ImageDataGenerator(rescale=1.0/255.0)\n",
    "val_gen = ImageDataGenerator(rescale=1.0/255.0)"
   ]
  },
  {
   "cell_type": "code",
   "execution_count": 9,
   "metadata": {},
   "outputs": [
    {
     "name": "stdout",
     "output_type": "stream",
     "text": [
      "Epoch 1/10\n",
      "132/132 [==============================] - 4s 25ms/step - loss: 1.0550 - accuracy: 0.6471 - val_loss: 0.3320 - val_accuracy: 0.8942\n",
      "Epoch 2/10\n",
      "132/132 [==============================] - 3s 23ms/step - loss: 0.2298 - accuracy: 0.9306 - val_loss: 0.2486 - val_accuracy: 0.9228\n",
      "Epoch 3/10\n",
      "132/132 [==============================] - 3s 24ms/step - loss: 0.1029 - accuracy: 0.9690 - val_loss: 0.1326 - val_accuracy: 0.9590\n",
      "Epoch 4/10\n",
      "132/132 [==============================] - 4s 30ms/step - loss: 0.0464 - accuracy: 0.9859 - val_loss: 0.1298 - val_accuracy: 0.9647\n",
      "Epoch 5/10\n",
      "132/132 [==============================] - 4s 33ms/step - loss: 0.0648 - accuracy: 0.9797 - val_loss: 0.1226 - val_accuracy: 0.9666\n",
      "Epoch 6/10\n",
      "132/132 [==============================] - 4s 31ms/step - loss: 0.0179 - accuracy: 0.9945 - val_loss: 0.1616 - val_accuracy: 0.9590\n",
      "Epoch 7/10\n",
      "132/132 [==============================] - 4s 31ms/step - loss: 0.0400 - accuracy: 0.9890 - val_loss: 0.1545 - val_accuracy: 0.9581\n",
      "Epoch 8/10\n",
      "132/132 [==============================] - 4s 31ms/step - loss: 0.0474 - accuracy: 0.9878 - val_loss: 0.1438 - val_accuracy: 0.9695\n",
      "Epoch 9/10\n",
      "132/132 [==============================] - 4s 29ms/step - loss: 0.0213 - accuracy: 0.9943 - val_loss: 0.1210 - val_accuracy: 0.9724\n",
      "Epoch 10/10\n",
      "132/132 [==============================] - 4s 31ms/step - loss: 0.0085 - accuracy: 0.9983 - val_loss: 0.0979 - val_accuracy: 0.9743\n"
     ]
    },
    {
     "data": {
      "text/plain": [
       "<keras.src.callbacks.History at 0x7eb4497c2020>"
      ]
     },
     "execution_count": 9,
     "metadata": {},
     "output_type": "execute_result"
    }
   ],
   "source": [
    "model.fit(train_gen.flow(x_train, y_train, batch_size=32), validation_data=val_gen.flow(x_val, y_val, batch_size=32), epochs=10)"
   ]
  },
  {
   "cell_type": "code",
   "execution_count": 10,
   "metadata": {},
   "outputs": [
    {
     "name": "stderr",
     "output_type": "stream",
     "text": [
      "WARNING: All log messages before absl::InitializeLog() is called are written to STDERR\n",
      "I0000 00:00:1730912835.806962   50812 gl_context_egl.cc:85] Successfully initialized EGL. Major : 1 Minor: 5\n",
      "I0000 00:00:1730912835.810161   51455 gl_context.cc:357] GL version: 3.2 (OpenGL ES 3.2 Mesa 24.0.3-1pop1~1711635559~22.04~7a9f319), renderer: Mesa Intel(R) Xe Graphics (TGL GT2)\n"
     ]
    }
   ],
   "source": [
    "mp_hands = mp.solutions.hands\n",
    "hands = mp_hands.Hands()\n",
    "mp_drawing = mp.solutions.drawing_utils"
   ]
  },
  {
   "cell_type": "code",
   "execution_count": 11,
   "metadata": {},
   "outputs": [
    {
     "name": "stderr",
     "output_type": "stream",
     "text": [
      "INFO: Created TensorFlow Lite XNNPACK delegate for CPU.\n"
     ]
    }
   ],
   "source": [
    "def show_random():\n",
    "    gesture_dir = random.choice(list(gesture_labels.keys()))\n",
    "    gesture_path = os.path.join(folder, gesture_dir)\n",
    "    random_image_path = os.path.join(gesture_path, random.choice(os.listdir(gesture_path)))\n",
    "    img = cv2.imread(random_image_path)\n",
    "    cv2.imshow('Gesture to Match', img)\n",
    "    cv2.waitKey(3000)\n",
    "    cv2.destroyWindow('Gesture to Match')\n",
    "    gesture_label = gesture_labels[gesture_dir] \n",
    "    return gesture_label"
   ]
  },
  {
   "cell_type": "code",
   "execution_count": 12,
   "metadata": {},
   "outputs": [
    {
     "name": "stderr",
     "output_type": "stream",
     "text": [
      "W0000 00:00:1730912835.860472   51449 inference_feedback_manager.cc:114] Feedback manager requires a model with a single signature inference. Disabling support for feedback tensors.\n"
     ]
    }
   ],
   "source": [
    "def detect(img):\n",
    "    img_rgb = cv2.cvtColor(img, cv2.COLOR_BGR2RGB)\n",
    "    result = hands.process(img_rgb)\n",
    "\n",
    "    if result.multi_hand_landmarks:\n",
    "        for hand in result.multi_hand_landmarks:\n",
    "            mp_drawing.draw_landmarks(img, hand, mp_hands.HAND_CONNECTIONS)\n",
    "    return img, result.multi_hand_landmarks"
   ]
  },
  {
   "cell_type": "code",
   "execution_count": 13,
   "metadata": {},
   "outputs": [],
   "source": [
    "def predict(roi):\n",
    "    if roi.size == 0:\n",
    "        return None  \n",
    "\n",
    "    roi_resized = cv2.resize(roi, (60, 60))\n",
    "    roi_resized = np.expand_dims(roi_resized, axis=0) / 255.0\n",
    "    pred = model.predict(roi_resized)[0]\n",
    "\n",
    "    ind = np.argsort(pred)[-5:][::-1]\n",
    "    prob = pred[ind]\n",
    "\n",
    "    labels = [(i, p) for i, p in zip(ind, prob)]\n",
    "    print(\"Top Predictions:\")\n",
    "    for i, p in labels:\n",
    "        print(f\"Label {i}: {p:.2f}\")\n",
    "\n",
    "    return ind"
   ]
  },
  {
   "cell_type": "code",
   "execution_count": 14,
   "metadata": {},
   "outputs": [],
   "source": [
    "def check(pred, true):\n",
    "    if true in pred:\n",
    "        print(\"Match found!\")\n",
    "        return True\n",
    "    else:\n",
    "        print(\"No match found. Try again.\")\n",
    "        return False"
   ]
  },
  {
   "cell_type": "code",
   "execution_count": 21,
   "metadata": {},
   "outputs": [
    {
     "name": "stdout",
     "output_type": "stream",
     "text": [
      "1/1 [==============================] - 0s 12ms/step\n",
      "Top Predictions:\n",
      "Label 5: 1.00\n",
      "Label 0: 0.00\n",
      "Label 4: 0.00\n",
      "Label 6: 0.00\n",
      "Label 3: 0.00\n",
      "Match found!\n",
      "Gesture matched!\n"
     ]
    }
   ],
   "source": [
    "import cv2\n",
    "\n",
    "cap = cv2.VideoCapture(0)\n",
    "label = show_random()\n",
    "\n",
    "while True:\n",
    "    ret, frame = cap.read()\n",
    "\n",
    "    processed_frame, hand = detect(frame)\n",
    "\n",
    "    if hand:\n",
    "        h, w, _ = processed_frame.shape\n",
    "        x_min, y_min = w, h\n",
    "        x_max, y_max = 0, 0\n",
    "\n",
    "        for lm in hand[0].landmark:\n",
    "            x, y = int(lm.x * w), int(lm.y * h)\n",
    "            x_min, y_min = min(x, x_min), min(y, y_min)\n",
    "            x_max, y_max = max(x, x_max), max(y, y_max)\n",
    "\n",
    "        x_min, y_min = max(0, x_min - 20), max(0, y_min - 20)\n",
    "        x_max, y_max = min(w, x_max + 20), min(h, y_max + 20)\n",
    "\n",
    "        roi = processed_frame[y_min:y_max, x_min:x_max]\n",
    "        pred = predict(roi)\n",
    "\n",
    "        if check(pred, label):\n",
    "            cv2.putText(processed_frame, \"Match!\", (50, 50), cv2.FONT_HERSHEY_SIMPLEX, 1, (0, 255, 0), 2)\n",
    "            print(\"Gesture matched!\")\n",
    "            cv2.imshow('Hand Detection and Matching', processed_frame)\n",
    "            cv2.waitKey(2000)  \n",
    "            break  \n",
    "        else:\n",
    "            cv2.putText(processed_frame, \"Try again\", (50, 50), cv2.FONT_HERSHEY_SIMPLEX, 1, (0, 0, 255), 2)\n",
    "\n",
    "    cv2.imshow('Hand Detection and Matching', processed_frame)\n",
    "\n",
    "    if cv2.waitKey(1) & 0xFF == ord('q'):\n",
    "        break  \n",
    "\n",
    "cap.release()\n",
    "cv2.destroyAllWindows()"
   ]
  }
 ],
 "metadata": {
  "kernelspec": {
   "display_name": "Python 3",
   "language": "python",
   "name": "python3"
  },
  "language_info": {
   "codemirror_mode": {
    "name": "ipython",
    "version": 3
   },
   "file_extension": ".py",
   "mimetype": "text/x-python",
   "name": "python",
   "nbconvert_exporter": "python",
   "pygments_lexer": "ipython3",
   "version": "3.10.12"
  }
 },
 "nbformat": 4,
 "nbformat_minor": 2
}
